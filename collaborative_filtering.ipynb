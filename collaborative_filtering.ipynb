{
  "nbformat": 4,
  "nbformat_minor": 0,
  "metadata": {
    "colab": {
      "name": "collaborative filtering ",
      "provenance": [],
      "collapsed_sections": [],
      "authorship_tag": "ABX9TyMSjXNsKk1hOVhFgNu633c1",
      "include_colab_link": true
    },
    "kernelspec": {
      "name": "python3",
      "display_name": "Python 3"
    }
  },
  "cells": [
    {
      "cell_type": "markdown",
      "metadata": {
        "id": "view-in-github",
        "colab_type": "text"
      },
      "source": [
        "<a href=\"https://colab.research.google.com/github/nirbhay221/MovieRecommenation/blob/master/collaborative_filtering.ipynb\" target=\"_parent\"><img src=\"https://colab.research.google.com/assets/colab-badge.svg\" alt=\"Open In Colab\"/></a>"
      ]
    },
    {
      "cell_type": "code",
      "metadata": {
        "id": "BnNbxOih3bto",
        "colab_type": "code",
        "colab": {}
      },
      "source": [
        "import pandas as pd \n",
        "import numpy as np \n",
        "import matplotlib.pyplot as plt \n",
        "import sklearn\n",
        "from sklearn.metrics.pairwise import cosine_similarity"
      ],
      "execution_count": null,
      "outputs": []
    },
    {
      "cell_type": "code",
      "metadata": {
        "id": "cgPCgr06Y4w6",
        "colab_type": "code",
        "colab": {
          "base_uri": "https://localhost:8080/",
          "height": 204
        },
        "outputId": "c0a85215-d229-47f7-adde-f62aa2cd09c6"
      },
      "source": [
        "df = pd.read_csv(\"toy_dataset.csv\",index_col=0)\n",
        "df"
      ],
      "execution_count": null,
      "outputs": [
        {
          "output_type": "execute_result",
          "data": {
            "text/html": [
              "<div>\n",
              "<style scoped>\n",
              "    .dataframe tbody tr th:only-of-type {\n",
              "        vertical-align: middle;\n",
              "    }\n",
              "\n",
              "    .dataframe tbody tr th {\n",
              "        vertical-align: top;\n",
              "    }\n",
              "\n",
              "    .dataframe thead th {\n",
              "        text-align: right;\n",
              "    }\n",
              "</style>\n",
              "<table border=\"1\" class=\"dataframe\">\n",
              "  <thead>\n",
              "    <tr style=\"text-align: right;\">\n",
              "      <th></th>\n",
              "      <th>action1</th>\n",
              "      <th>action2</th>\n",
              "      <th>action3</th>\n",
              "      <th>romantic1</th>\n",
              "      <th>romantic2</th>\n",
              "      <th>romantic3</th>\n",
              "    </tr>\n",
              "  </thead>\n",
              "  <tbody>\n",
              "    <tr>\n",
              "      <th>user 1</th>\n",
              "      <td>4.0</td>\n",
              "      <td>5.0</td>\n",
              "      <td>3.0</td>\n",
              "      <td>NaN</td>\n",
              "      <td>2.0</td>\n",
              "      <td>1.0</td>\n",
              "    </tr>\n",
              "    <tr>\n",
              "      <th>user 2</th>\n",
              "      <td>5.0</td>\n",
              "      <td>3.0</td>\n",
              "      <td>3.0</td>\n",
              "      <td>2.0</td>\n",
              "      <td>2.0</td>\n",
              "      <td>NaN</td>\n",
              "    </tr>\n",
              "    <tr>\n",
              "      <th>user 3</th>\n",
              "      <td>1.0</td>\n",
              "      <td>NaN</td>\n",
              "      <td>NaN</td>\n",
              "      <td>4.0</td>\n",
              "      <td>5.0</td>\n",
              "      <td>4.0</td>\n",
              "    </tr>\n",
              "    <tr>\n",
              "      <th>user 4</th>\n",
              "      <td>NaN</td>\n",
              "      <td>2.0</td>\n",
              "      <td>1.0</td>\n",
              "      <td>4.0</td>\n",
              "      <td>NaN</td>\n",
              "      <td>3.0</td>\n",
              "    </tr>\n",
              "    <tr>\n",
              "      <th>user 5</th>\n",
              "      <td>1.0</td>\n",
              "      <td>NaN</td>\n",
              "      <td>2.0</td>\n",
              "      <td>3.0</td>\n",
              "      <td>3.0</td>\n",
              "      <td>4.0</td>\n",
              "    </tr>\n",
              "  </tbody>\n",
              "</table>\n",
              "</div>"
            ],
            "text/plain": [
              "        action1  action2  action3  romantic1  romantic2  romantic3\n",
              "user 1      4.0      5.0      3.0        NaN        2.0        1.0\n",
              "user 2      5.0      3.0      3.0        2.0        2.0        NaN\n",
              "user 3      1.0      NaN      NaN        4.0        5.0        4.0\n",
              "user 4      NaN      2.0      1.0        4.0        NaN        3.0\n",
              "user 5      1.0      NaN      2.0        3.0        3.0        4.0"
            ]
          },
          "metadata": {
            "tags": []
          },
          "execution_count": 5
        }
      ]
    },
    {
      "cell_type": "code",
      "metadata": {
        "id": "Xy6OLq1UZBbh",
        "colab_type": "code",
        "colab": {
          "base_uri": "https://localhost:8080/",
          "height": 204
        },
        "outputId": "7c09996f-1ba5-4206-8de9-682dbbea875e"
      },
      "source": [
        "def standardize(row) :\n",
        "  return ((row - row.mean())/(row.max() -row.min()))\n",
        "rating = df.apply(standardize).fillna(0)\n",
        "rating"
      ],
      "execution_count": null,
      "outputs": [
        {
          "output_type": "execute_result",
          "data": {
            "text/html": [
              "<div>\n",
              "<style scoped>\n",
              "    .dataframe tbody tr th:only-of-type {\n",
              "        vertical-align: middle;\n",
              "    }\n",
              "\n",
              "    .dataframe tbody tr th {\n",
              "        vertical-align: top;\n",
              "    }\n",
              "\n",
              "    .dataframe thead th {\n",
              "        text-align: right;\n",
              "    }\n",
              "</style>\n",
              "<table border=\"1\" class=\"dataframe\">\n",
              "  <thead>\n",
              "    <tr style=\"text-align: right;\">\n",
              "      <th></th>\n",
              "      <th>action1</th>\n",
              "      <th>action2</th>\n",
              "      <th>action3</th>\n",
              "      <th>romantic1</th>\n",
              "      <th>romantic2</th>\n",
              "      <th>romantic3</th>\n",
              "    </tr>\n",
              "  </thead>\n",
              "  <tbody>\n",
              "    <tr>\n",
              "      <th>user 1</th>\n",
              "      <td>0.3125</td>\n",
              "      <td>0.555556</td>\n",
              "      <td>0.375</td>\n",
              "      <td>0.000</td>\n",
              "      <td>-0.333333</td>\n",
              "      <td>-0.666667</td>\n",
              "    </tr>\n",
              "    <tr>\n",
              "      <th>user 2</th>\n",
              "      <td>0.5625</td>\n",
              "      <td>-0.111111</td>\n",
              "      <td>0.375</td>\n",
              "      <td>-0.625</td>\n",
              "      <td>-0.333333</td>\n",
              "      <td>0.000000</td>\n",
              "    </tr>\n",
              "    <tr>\n",
              "      <th>user 3</th>\n",
              "      <td>-0.4375</td>\n",
              "      <td>0.000000</td>\n",
              "      <td>0.000</td>\n",
              "      <td>0.375</td>\n",
              "      <td>0.666667</td>\n",
              "      <td>0.333333</td>\n",
              "    </tr>\n",
              "    <tr>\n",
              "      <th>user 4</th>\n",
              "      <td>0.0000</td>\n",
              "      <td>-0.444444</td>\n",
              "      <td>-0.625</td>\n",
              "      <td>0.375</td>\n",
              "      <td>0.000000</td>\n",
              "      <td>0.000000</td>\n",
              "    </tr>\n",
              "    <tr>\n",
              "      <th>user 5</th>\n",
              "      <td>-0.4375</td>\n",
              "      <td>0.000000</td>\n",
              "      <td>-0.125</td>\n",
              "      <td>-0.125</td>\n",
              "      <td>0.000000</td>\n",
              "      <td>0.333333</td>\n",
              "    </tr>\n",
              "  </tbody>\n",
              "</table>\n",
              "</div>"
            ],
            "text/plain": [
              "        action1   action2  action3  romantic1  romantic2  romantic3\n",
              "user 1   0.3125  0.555556    0.375      0.000  -0.333333  -0.666667\n",
              "user 2   0.5625 -0.111111    0.375     -0.625  -0.333333   0.000000\n",
              "user 3  -0.4375  0.000000    0.000      0.375   0.666667   0.333333\n",
              "user 4   0.0000 -0.444444   -0.625      0.375   0.000000   0.000000\n",
              "user 5  -0.4375  0.000000   -0.125     -0.125   0.000000   0.333333"
            ]
          },
          "metadata": {
            "tags": []
          },
          "execution_count": 12
        }
      ]
    },
    {
      "cell_type": "code",
      "metadata": {
        "id": "qnhg9YXm-KV8",
        "colab_type": "code",
        "colab": {
          "base_uri": "https://localhost:8080/",
          "height": 235
        },
        "outputId": "b380a928-6935-4947-eef9-a3b2b65be34c"
      },
      "source": [
        "item_similarity = cosine_similarity(rating.T)\n",
        "item_similarity_df = pd.DataFrame(item_similarity,index = rating.columns,columns = rating.columns)\n",
        "item_similarity_df"
      ],
      "execution_count": null,
      "outputs": [
        {
          "output_type": "execute_result",
          "data": {
            "text/html": [
              "<div>\n",
              "<style scoped>\n",
              "    .dataframe tbody tr th:only-of-type {\n",
              "        vertical-align: middle;\n",
              "    }\n",
              "\n",
              "    .dataframe tbody tr th {\n",
              "        vertical-align: top;\n",
              "    }\n",
              "\n",
              "    .dataframe thead th {\n",
              "        text-align: right;\n",
              "    }\n",
              "</style>\n",
              "<table border=\"1\" class=\"dataframe\">\n",
              "  <thead>\n",
              "    <tr style=\"text-align: right;\">\n",
              "      <th></th>\n",
              "      <th>action1</th>\n",
              "      <th>action2</th>\n",
              "      <th>action3</th>\n",
              "      <th>romantic1</th>\n",
              "      <th>romantic2</th>\n",
              "      <th>romantic3</th>\n",
              "    </tr>\n",
              "  </thead>\n",
              "  <tbody>\n",
              "    <tr>\n",
              "      <th>action1</th>\n",
              "      <td>1.000000</td>\n",
              "      <td>0.172854</td>\n",
              "      <td>0.517195</td>\n",
              "      <td>-0.622745</td>\n",
              "      <td>-0.800327</td>\n",
              "      <td>-0.685994</td>\n",
              "    </tr>\n",
              "    <tr>\n",
              "      <th>action2</th>\n",
              "      <td>0.172854</td>\n",
              "      <td>1.000000</td>\n",
              "      <td>0.744387</td>\n",
              "      <td>-0.162835</td>\n",
              "      <td>-0.251976</td>\n",
              "      <td>-0.629941</td>\n",
              "    </tr>\n",
              "    <tr>\n",
              "      <th>action3</th>\n",
              "      <td>0.517195</td>\n",
              "      <td>0.744387</td>\n",
              "      <td>1.000000</td>\n",
              "      <td>-0.659091</td>\n",
              "      <td>-0.369274</td>\n",
              "      <td>-0.430820</td>\n",
              "    </tr>\n",
              "    <tr>\n",
              "      <th>romantic1</th>\n",
              "      <td>-0.622745</td>\n",
              "      <td>-0.162835</td>\n",
              "      <td>-0.659091</td>\n",
              "      <td>1.000000</td>\n",
              "      <td>0.677003</td>\n",
              "      <td>0.123091</td>\n",
              "    </tr>\n",
              "    <tr>\n",
              "      <th>romantic2</th>\n",
              "      <td>-0.800327</td>\n",
              "      <td>-0.251976</td>\n",
              "      <td>-0.369274</td>\n",
              "      <td>0.677003</td>\n",
              "      <td>1.000000</td>\n",
              "      <td>0.666667</td>\n",
              "    </tr>\n",
              "    <tr>\n",
              "      <th>romantic3</th>\n",
              "      <td>-0.685994</td>\n",
              "      <td>-0.629941</td>\n",
              "      <td>-0.430820</td>\n",
              "      <td>0.123091</td>\n",
              "      <td>0.666667</td>\n",
              "      <td>1.000000</td>\n",
              "    </tr>\n",
              "  </tbody>\n",
              "</table>\n",
              "</div>"
            ],
            "text/plain": [
              "            action1   action2   action3  romantic1  romantic2  romantic3\n",
              "action1    1.000000  0.172854  0.517195  -0.622745  -0.800327  -0.685994\n",
              "action2    0.172854  1.000000  0.744387  -0.162835  -0.251976  -0.629941\n",
              "action3    0.517195  0.744387  1.000000  -0.659091  -0.369274  -0.430820\n",
              "romantic1 -0.622745 -0.162835 -0.659091   1.000000   0.677003   0.123091\n",
              "romantic2 -0.800327 -0.251976 -0.369274   0.677003   1.000000   0.666667\n",
              "romantic3 -0.685994 -0.629941 -0.430820   0.123091   0.666667   1.000000"
            ]
          },
          "metadata": {
            "tags": []
          },
          "execution_count": 19
        }
      ]
    },
    {
      "cell_type": "code",
      "metadata": {
        "id": "jfBisYSb-wmq",
        "colab_type": "code",
        "colab": {}
      },
      "source": [
        "def make_recommendation(movie_user_likes,df):\n",
        "  similar_score= item_similarity_df[movie_user_likes]*[df-2.5]\n",
        "  similar_score = similar_score.sort_values(ascending =False)\n",
        "  return similar_score"
      ],
      "execution_count": null,
      "outputs": []
    },
    {
      "cell_type": "code",
      "metadata": {
        "id": "SsT9DFDTBlvT",
        "colab_type": "code",
        "colab": {
          "base_uri": "https://localhost:8080/",
          "height": 136
        },
        "outputId": "5b16d962-c461-4c30-a2df-7bbe9c5b2487"
      },
      "source": [
        "make_recommendation(\"action1\",5)"
      ],
      "execution_count": null,
      "outputs": [
        {
          "output_type": "execute_result",
          "data": {
            "text/plain": [
              "action1      2.500000\n",
              "action3      1.292989\n",
              "action2      0.432136\n",
              "romantic1   -1.556864\n",
              "romantic3   -1.714986\n",
              "romantic2   -2.000817\n",
              "Name: action1, dtype: float64"
            ]
          },
          "metadata": {
            "tags": []
          },
          "execution_count": 31
        }
      ]
    },
    {
      "cell_type": "code",
      "metadata": {
        "id": "jh91nSIABxjh",
        "colab_type": "code",
        "colab": {
          "base_uri": "https://localhost:8080/",
          "height": 136
        },
        "outputId": "5e6c12d2-cd4b-4bd7-ebb6-a8da8657c711"
      },
      "source": [
        "action_lover = [('action1',4),('action2',4)]\n",
        "similar_movies = pd.DataFrame()\n",
        "for movie,rating in action_lover:\n",
        "  similar_movies = similar_movies.append(make_recommendation(movie,rating),ignore_index = True)\n",
        "similar_movies.sum().sort_values(ascending =  False)"
      ],
      "execution_count": null,
      "outputs": [
        {
          "output_type": "execute_result",
          "data": {
            "text/plain": [
              "action3      1.892374\n",
              "action2      1.759281\n",
              "action1      1.759281\n",
              "romantic1   -1.178370\n",
              "romantic2   -1.578455\n",
              "romantic3   -1.973903\n",
              "dtype: float64"
            ]
          },
          "metadata": {
            "tags": []
          },
          "execution_count": 36
        }
      ]
    },
    {
      "cell_type": "code",
      "metadata": {
        "id": "ATtR-P3BDSyO",
        "colab_type": "code",
        "colab": {}
      },
      "source": [
        ""
      ],
      "execution_count": null,
      "outputs": []
    }
  ]
}