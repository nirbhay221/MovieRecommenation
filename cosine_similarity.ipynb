{
  "nbformat": 4,
  "nbformat_minor": 0,
  "metadata": {
    "colab": {
      "name": "cosine_similarity.ipynb",
      "provenance": [],
      "collapsed_sections": [],
      "authorship_tag": "ABX9TyOzCGZ11U5icKj0PE669/XZ",
      "include_colab_link": true
    },
    "kernelspec": {
      "name": "python3",
      "display_name": "Python 3"
    }
  },
  "cells": [
    {
      "cell_type": "markdown",
      "metadata": {
        "id": "view-in-github",
        "colab_type": "text"
      },
      "source": [
        "<a href=\"https://colab.research.google.com/github/nirbhay221/MovieRecommenation/blob/master/cosine_similarity.ipynb\" target=\"_parent\"><img src=\"https://colab.research.google.com/assets/colab-badge.svg\" alt=\"Open In Colab\"/></a>"
      ]
    },
    {
      "cell_type": "code",
      "metadata": {
        "id": "OI8prEMm1rjN",
        "colab_type": "code",
        "colab": {
          "base_uri": "https://localhost:8080/",
          "height": 51
        },
        "outputId": "6da5e1c7-41e6-48f0-9212-01a26ff0b164"
      },
      "source": [
        " import pandas as pd\n",
        " import numpy as np \n",
        " import sklearn\n",
        " from sklearn.feature_extraction.text import CountVectorizer\n",
        " from sklearn.metrics.pairwise import cosine_similarity\n",
        " import matplotlib.pyplot as plt\n",
        " text =['London Paris London','Paris Paris London']\n",
        "count =CountVectorizer()\n",
        "count_matrix = count.fit_transform(text)\n",
        "count_matrix.toarray()\n",
        "count_matrix = cosine_similarity(count_matrix)\n",
        "count_matrix"
      ],
      "execution_count": null,
      "outputs": [
        {
          "output_type": "execute_result",
          "data": {
            "text/plain": [
              "array([[1. , 0.8],\n",
              "       [0.8, 1. ]])"
            ]
          },
          "metadata": {
            "tags": []
          },
          "execution_count": 12
        }
      ]
    },
    {
      "cell_type": "code",
      "metadata": {
        "id": "S7jm3KOpXFLr",
        "colab_type": "code",
        "colab": {}
      },
      "source": [
        ""
      ],
      "execution_count": null,
      "outputs": []
    }
  ]
}